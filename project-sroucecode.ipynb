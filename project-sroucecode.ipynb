{
 "cells": [
  {
   "cell_type": "markdown",
   "metadata": {},
   "source": [
    "# Investigating item-based collaborative filtering\n",
    "## 1.Reimplementing the algorithm\n",
    "### 1.1 Loading are preprocessing the dataset from MovieLens"
   ]
  },
  {
   "cell_type": "code",
   "execution_count": null,
   "metadata": {},
   "outputs": [],
   "source": [
    "import pandas as pd\n",
    "path = \"./Dataset/ml-100k/u.data\"\n",
    "data = pd.read_csv(path, header = None, sep='\\s+')\n",
    "print(data)\n",
    "print(type(data))"
   ]
  },
  {
   "cell_type": "markdown",
   "metadata": {},
   "source": [
    "### 1.2 Building the Item-based CF class"
   ]
  },
  {
   "cell_type": "code",
   "execution_count": 144,
   "metadata": {},
   "outputs": [
    {
     "data": {
      "text/plain": [
       "{748: 3.237503147891443,\n",
       " 322: 2.322385613022473,\n",
       " 246: 1.8895498093391012,\n",
       " 896: 1.7679199997570947,\n",
       " 902: 1.6386731552203917,\n",
       " 329: 1.635259635065354,\n",
       " 680: 1.6233588998268556,\n",
       " 903: 1.6002645283972774,\n",
       " 1433: 1.414213562373095,\n",
       " 1429: 1.2247448713915892}"
      ]
     },
     "execution_count": 144,
     "metadata": {},
     "output_type": "execute_result"
    }
   ],
   "source": [
    "import math\n",
    "class ItemBasedCF:\n",
    "    def __init__(self,train_data):\n",
    "        self.train_data = train_data\n",
    "        self.processData()\n",
    "    #process the input data to a dict\n",
    "    def processData(self):\n",
    "        self.train = dict()\n",
    "        for i in range(len(self.train_data)):\n",
    "            user, item, score, time = self.train_data.loc[i]\n",
    "            self.train.setdefault(user,{})\n",
    "            self.train[user][item] = int(float(score))\n",
    "\n",
    "    # computes the item similarity matrix\n",
    "    def ItemSimilarity(self):\n",
    "        #item-item matrix\n",
    "        C = dict()\n",
    "        #number of users rated the movie\n",
    "        N = dict()\n",
    "        for user,items in self.train.items():\n",
    "            for i in items.keys():\n",
    "                N.setdefault(i,0)\n",
    "                N[i] += 1\n",
    "                C.setdefault(i,{})\n",
    "                for j in items.keys():\n",
    "                    if i == j : continue\n",
    "                    C[i].setdefault(j,0)\n",
    "                    C[i][j] += 1\n",
    "        #computes the similarity matrix\n",
    "        self.W = dict()\n",
    "        for i,related_items in C.items():\n",
    "            self.W.setdefault(i,{})\n",
    "            for j,cij in related_items.items():\n",
    "                self.W[i][j] = cij / (math.sqrt(N[i] * N[j]))\n",
    "        return self.W\n",
    "\n",
    "    # make prediction of the rating for an item by the active user\n",
    "    def Predict(self,user,movie,K=3):\n",
    "        if(self.train[user].get(movie)):\n",
    "            return \"error\"\n",
    "        rank = dict()\n",
    "        action_item = self.train[user]   #the movies that the active users watched\n",
    "        for item,score in action_item.items():\n",
    "            #j and wj \n",
    "            for j,wj in sorted(self.W[item].items(),key=lambda x:x[1],reverse=True)[0:K]:\n",
    "                if j in action_item.keys():\n",
    "                    continue\n",
    "                rank.setdefault(j,0)\n",
    "                rank[j] += score * wj\n",
    "        return rank.get(movie)\n",
    "\n",
    "\n",
    "    # make recommendation top N movies for a user based on K the number of neighbors\n",
    "    def Recommend(self,user,K=3,N=10):\n",
    "        rank = dict()\n",
    "        action_item = self.train[user]   #the movies that the active users watched\n",
    "        for item,score in action_item.items():\n",
    "            #j and wj \n",
    "            for j,wj in sorted(self.W[item].items(),key=lambda x:x[1],reverse=True)[0:K]:\n",
    "                if j in action_item.keys():\n",
    "                    continue\n",
    "                rank.setdefault(j,0)\n",
    "                rank[j] += score * wj\n",
    "        return dict(sorted(rank.items(),key=lambda x:x[1],reverse=True)[0:N])\n",
    "\n",
    "model = ItemBasedCF(data)\n",
    "sim = model.ItemSimilarity()\n",
    "model.Recommend(100)"
   ]
  },
  {
   "cell_type": "markdown",
   "metadata": {},
   "source": [
    "## 2. Performance Measurements"
   ]
  },
  {
   "cell_type": "code",
   "execution_count": null,
   "metadata": {},
   "outputs": [],
   "source": [
    "train_data = data[:80000]\n",
    "test_model = ItemBasedCF(train_data)\n",
    "test_sim = test_model.ItemSimilarity()\n",
    "\n",
    "test_data = data[80000:]\n",
    "test_user = test_data[0]\n",
    "test_item = test_data[1]\n",
    "test_score = test_data[2]\n",
    "print(test_user)\n",
    "\n"
   ]
  },
  {
   "cell_type": "code",
   "execution_count": 141,
   "metadata": {},
   "outputs": [
    {
     "name": "stdout",
     "output_type": "stream",
     "text": [
      "         0     1  2          3\n",
      "80000  863  1431  4  889289618\n",
      "80001  761  1287  1  876190072\n",
      "80002  863   322  1  889289327\n",
      "80003  828   694  2  891036717\n",
      "80004  889   523  4  880178078\n",
      "...    ...   ... ..        ...\n",
      "99995  880   476  3  880175444\n",
      "99996  716   204  5  879795543\n",
      "99997  276  1090  1  874795795\n",
      "99998   13   225  2  882399156\n",
      "99999   12   203  3  879959583\n",
      "\n",
      "[20000 rows x 4 columns]\n"
     ]
    }
   ],
   "source": [
    "count = 0\n",
    "mae = 0\n",
    "print(test_data)\n",
    "for i in range(80000, 100000):\n",
    "    prediction = test_model.Predict(test_user[i], test_item[i])\n",
    "    if(prediction == None):\n",
    "        count += 1\n",
    "    else:\n",
    "        mae += abs(prediction - test_score[i])\n",
    "mae = mae / (len(test_user) - count)"
   ]
  },
  {
   "cell_type": "code",
   "execution_count": 143,
   "metadata": {},
   "outputs": [
    {
     "name": "stdout",
     "output_type": "stream",
     "text": [
      "11518\n",
      "2.8636488020448856\n"
     ]
    }
   ],
   "source": [
    "print(count)\n",
    "print(mae)"
   ]
  }
 ],
 "metadata": {
  "interpreter": {
   "hash": "3ae4d611e4ef8f33170557fe2e51b0dd43e56034464f0a404587a1c0a8aeea83"
  },
  "kernelspec": {
   "display_name": "Python 3.8.8 64-bit ('base': conda)",
   "language": "python",
   "name": "python3"
  },
  "language_info": {
   "codemirror_mode": {
    "name": "ipython",
    "version": 3
   },
   "file_extension": ".py",
   "mimetype": "text/x-python",
   "name": "python",
   "nbconvert_exporter": "python",
   "pygments_lexer": "ipython3",
   "version": "3.8.8"
  },
  "orig_nbformat": 4
 },
 "nbformat": 4,
 "nbformat_minor": 2
}
